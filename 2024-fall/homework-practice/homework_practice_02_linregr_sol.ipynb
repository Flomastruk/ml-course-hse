{
  "cells": [
    {
      "cell_type": "markdown",
      "metadata": {
        "id": "tDdyDPH7EoF_"
      },
      "source": [
        "# Машинное обучение, ФКН ВШЭ\n",
        "\n",
        "## Практическое задание 2. Exploratory Data Analysis и линейная регрессия\n",
        "\n",
        "### Общая информация\n",
        "Дата выдачи: 12.10.2024\n",
        "\n",
        "Мягкий дедлайн: 23:59MSK 27.10.2024\n",
        "\n",
        "Жесткий дедлайн: 23:59MSK 31.10.2024"
      ]
    },
    {
      "cell_type": "markdown",
      "metadata": {
        "id": "EnR2J2aZEoGA"
      },
      "source": [
        "### О задании\n",
        "В этом задании мы попытаемся научиться анализировать данные и выделять из них полезные признаки. Мы также научимся пользоваться `sklearn`, а заодно привыкнем к основным понятиям машинного обучения.\n",
        "\n",
        "### Оценивание и штрафы\n",
        "Каждая из задач имеет определенную «стоимость» (указана в скобках около задачи). Максимально допустимая оценка за работу — 10 баллов. Проверяющий имеет право снизить оценку за неэффективную реализацию или неопрятные графики.\n",
        "\n",
        "**Обратите внимание**, что в каждом разделе домашнего задания есть оцениваниемые задачи и есть вопросы. Вопросы дополняют задачи и направлены на то, чтобы проинтерпретировать или обосновать происходящее. Код без интерпретации не имеет смысла, поэтому отвечать на вопросы обязательно — за отсутствие ответов мы будем снижать баллы за задачи. Если вы ответите на вопросы, но не напишете корректный код к соответствующим оцениваемым задачам, то баллы за такое выставлены не будут.\n",
        "\n",
        "Задание выполняется самостоятельно. «Похожие» решения считаются плагиатом и все задействованные студенты (в том числе те, у кого списали) не могут получить за него больше 0 баллов (подробнее о плагиате см. на странице курса). Если вы нашли решение какого-то из заданий (или его часть) в открытом источнике, необходимо указать ссылку на этот источник в отдельном блоке в конце вашей работы (скорее всего вы будете не единственным, кто это нашел, поэтому чтобы исключить подозрение в плагиате, необходима ссылка на источник).\n",
        "\n",
        "### Формат сдачи\n",
        "Задания сдаются через систему Anytask. Инвайт можно найти на странице курса. Присылать необходимо ноутбук с выполненным заданием. Сам ноутбук называйте в формате homework-practice-02-linregr-Username.ipynb, где Username — ваша фамилия.\n",
        "\n",
        "Для удобства проверки самостоятельно посчитайте свою максимальную оценку (исходя из набора решенных задач) и укажите ниже.\n",
        "\n",
        "Оценка: xx."
      ]
    },
    {
      "cell_type": "markdown",
      "metadata": {
        "id": "KNNRLdI_EoGB"
      },
      "source": [
        "В этом ноутбуке используется библиотека `folium` для визуализации карт. Она работает в google colab!"
      ]
    },
    {
      "cell_type": "code",
      "execution_count": null,
      "metadata": {
        "ExecuteTime": {
          "end_time": "2020-09-26T16:46:41.323933Z",
          "start_time": "2020-09-26T16:46:38.248043Z"
        },
        "id": "lUEEf5JeEoGB"
      },
      "outputs": [],
      "source": [
        "!pip install folium"
      ]
    },
    {
      "cell_type": "code",
      "execution_count": null,
      "metadata": {
        "ExecuteTime": {
          "end_time": "2020-09-26T16:54:29.903693Z",
          "start_time": "2020-09-26T16:54:29.891068Z"
        },
        "collapsed": true,
        "id": "2ey5NPQWEoGC"
      },
      "outputs": [],
      "source": [
        "import folium\n",
        "\n",
        "m = folium.Map(location=(50.97178, 9.79418), zoom_start=15)\n",
        "\n",
        "m"
      ]
    },
    {
      "cell_type": "markdown",
      "metadata": {
        "id": "wK6RuhUsEoGC"
      },
      "source": [
        "Если вы всё сделали правильно, то выше должна открыться карта"
      ]
    },
    {
      "cell_type": "markdown",
      "metadata": {
        "id": "_yZX6lnAFMz2"
      },
      "source": [
        "### 📌 **Памятка по дз2**\n",
        "\n",
        "Обрабатывать данные можно любым способом (`polars`, `pandas`, `pyspark`, ...), который вам нравится и запускается в ноутбуке, и любой библиотекой для визуализации (`matplotlib`, `seaborn`, `plotly`, ...). Пользуйтесь на здоровье, но!\n",
        "\n",
        "> Учтите, что `polars` всё ещё молодой и не все библиотеки его поддерживают. `sklearn` во многом уже работает, но на всякий случай не стесняйтесь пользоваться методами `pl.DataFrame.to_pandas()` или `pl.DataFrame.to_numpy()`    \n",
        "\n",
        "> Впрочем, `pandas` тоже не лишён проблем. `sklearn` принимает `pd.DataFrame` почти везде, проблемы очень редки, но если вдруг возникнет какая-то беда с шейпами, или ещё какой-нибудь казус, а вы уверены, что всё правильно, пользуйтесь `pd.DataFrame.to_numpy()`. Это не всегда решает проблему, но часто помогает понять, что на самом деле не так. При желании можно передавать и `Iterable`, и sparse-матрицы\n",
        "\n",
        "> Графики должны быть понятные, читаемые и пр. Консультируйтесь с памяткой из дз1 в задании на график\n",
        "\n",
        "> Для воспроизводимости результатов не забывайте пользоваться `np.random.seed(...)`, при необходимости чистите мусор `gc.collect()`, лучше в каждой ячейке\n",
        "\n",
        "> Все результаты должны быть получены в ноутбуке. На каждый **Вопрос** долен быть дан **Ответ** (письменно (в Markdown например) или кодом)"
      ]
    },
    {
      "cell_type": "code",
      "execution_count": 1,
      "metadata": {
        "id": "Bv2pcc8EFWzP"
      },
      "outputs": [],
      "source": [
        "import datetime\n",
        "\n",
        "import numpy as np\n",
        "import polars as pl\n",
        "import plotly.express as px"
      ]
    },
    {
      "cell_type": "markdown",
      "metadata": {
        "id": "PkVS571gEoGD"
      },
      "source": [
        "## Часть 0. Подготовка (1 балл)"
      ]
    },
    {
      "cell_type": "markdown",
      "metadata": {
        "id": "Lajrlou5EoGD"
      },
      "source": [
        "**Задание 1 (1 балл)**. Мы будем работать с данными из соревнования [New York City Taxi Trip Duration](https://www.kaggle.com/c/nyc-taxi-trip-duration/overview), в котором нужно было предсказать длительность поездки на такси. Скачайте обучающую выборку из этого соревнования и загрузите ее:"
      ]
    },
    {
      "cell_type": "code",
      "execution_count": null,
      "metadata": {},
      "outputs": [],
      "source": [
        "!pip install kaggle"
      ]
    },
    {
      "cell_type": "code",
      "execution_count": 5,
      "metadata": {},
      "outputs": [],
      "source": [
        "!mkdir ~/.kaggle\n",
        "!ln -s /data/ml-course-hse/config/.kaggle/kaggle.json ~/.kaggle/kaggle.json\n",
        "!chmod 600 ~/.kaggle/kaggle.json"
      ]
    },
    {
      "cell_type": "code",
      "execution_count": null,
      "metadata": {},
      "outputs": [],
      "source": [
        "!mkdir -p /data/ml-course-hse/2024-fall/homework-practice-02-linregr && kaggle competitions download -c nyc-taxi-trip-duration -p /data/ml-course-hse/2024-fall/homework-practice-02-linregr"
      ]
    },
    {
      "cell_type": "code",
      "execution_count": null,
      "metadata": {},
      "outputs": [],
      "source": [
        "!unzip /data/ml-course-hse/2024-fall/homework-practice-02-linregr/nyc-taxi-trip-duration.zip -d /data/ml-course-hse/2024-fall/homework-practice-02-linregr/\n",
        "!unzip /data/ml-course-hse/2024-fall/homework-practice-02-linregr/train.zip                  -d /data/ml-course-hse/2024-fall/homework-practice-02-linregr/\n",
        "!unzip /data/ml-course-hse/2024-fall/homework-practice-02-linregr/test.zip                   -d /data/ml-course-hse/2024-fall/homework-practice-02-linregr/\n",
        "!unzip /data/ml-course-hse/2024-fall/homework-practice-02-linregr/sample_submission.zip      -d /data/ml-course-hse/2024-fall/homework-practice-02-linregr/"
      ]
    },
    {
      "cell_type": "markdown",
      "metadata": {
        "id": "V4Db6hxxEoGE"
      },
      "source": [
        "Обратите внимание на колонки `pickup_datetime` и `dropoff_datetime`. `dropoff_datetime` был добавлена организаторами только в обучающую выборку, то есть использовать эту колонку нельзя, давайте удалим ее. В `pickup_datetime` записаны дата и время начала поездки. Чтобы с ней было удобно работать, давайте преобразуем даты в `datetime`-объекты"
      ]
    },
    {
      "cell_type": "code",
      "execution_count": null,
      "metadata": {
        "id": "c9BkrxQnEoGE"
      },
      "outputs": [],
      "source": [
        "# читаем датафрейм\n",
        "df = pl.scan_csv(\"../../../../data/ml-course-hse/2024-fall/homework-practice-02-linregr/train.csv\")\n",
        "df_test = pl.scan_csv(\"../../../../data/ml-course-hse/2024-fall/homework-practice-02-linregr/test.csv\")\n",
        "print(f'Number of rows in train: {df.collect().shape[0]}; in test: {df_test.collect().shape[0]} rows')\n",
        "print(df.collect().estimated_size(\"mb\"), \"mb\")"
      ]
    },
    {
      "cell_type": "code",
      "execution_count": 3,
      "metadata": {},
      "outputs": [],
      "source": [
        "df = df.select(pl.exclude('dropoff_datetime')).with_columns(pl.col('pickup_datetime').str.to_datetime(format=\"%Y-%m-%d %H:%M:%S\", time_zone = 'EST'))\n",
        "df_test = df_test.with_columns(pl.col('pickup_datetime').str.to_datetime(format=\"%Y-%m-%d %H:%M:%S\", time_zone = 'EST'))"
      ]
    },
    {
      "cell_type": "code",
      "execution_count": null,
      "metadata": {},
      "outputs": [],
      "source": [
        "df.describe()"
      ]
    },
    {
      "cell_type": "code",
      "execution_count": null,
      "metadata": {},
      "outputs": [],
      "source": [
        "df.head().collect()"
      ]
    },
    {
      "cell_type": "markdown",
      "metadata": {
        "id": "SGOIn54JEoGE"
      },
      "source": [
        "В колонке `trip_duration` записано целевое значение, которое мы хотим предсказывать. Давайте посмотрим на распределение таргета в обучающей выборке. Для этого нарисуйте его гистограмму:"
      ]
    },
    {
      "cell_type": "code",
      "execution_count": 6,
      "metadata": {},
      "outputs": [],
      "source": [
        "layout_dict = dict(\n",
        "    margin=dict(l=20, r=20, t=40, b=20),\n",
        "    width=600,\n",
        "    height=400,\n",
        "    paper_bgcolor='LightSteelBlue',\n",
        "    title_font_size = 12,\n",
        "    )"
      ]
    },
    {
      "cell_type": "code",
      "execution_count": null,
      "metadata": {
        "id": "Y7ckLUTmEoGF"
      },
      "outputs": [],
      "source": [
        "fig = px.histogram(\n",
        "    df.collect(),\n",
        "    x='trip_duration',\n",
        "    title='Count of trip durations in test dataset',\n",
        "    nbins=100,\n",
        ")\n",
        "fig.update_layout(**layout_dict)"
      ]
    },
    {
      "cell_type": "markdown",
      "metadata": {
        "id": "0Lrim8I5EoGF"
      },
      "source": [
        "**Вопрос**: Что можно сказать о целевой переменной по гистограмме её значений?"
      ]
    },
    {
      "cell_type": "markdown",
      "metadata": {
        "id": "5pe0qkO4EoGF"
      },
      "source": [
        "В соревновании в качестве метрики качества использовалось RMSLE:\n",
        "$$\\text{RMSLE}(X, y, a) = \\sqrt{\\frac{1}{\\ell}\\sum_{i=1}^{\\ell} \\big(\\log{(y_i + 1)} - \\log{(a(x_i) + 1)}\\big)^2}$$\n",
        "\n",
        "**Вопрос**: Как вы думаете, почему авторы соревнования выбрали именно RMSLE, а не RMSE?"
      ]
    },
    {
      "cell_type": "markdown",
      "metadata": {
        "id": "sjIdIjE2EoGF"
      },
      "source": [
        "На семинаре мы рассматривали несколько моделей линейной регрессии в `sklearn`, но каждая из них оптимизировала среднеквадратичную ошибку (MSE), а не RMSLE. Давайте проделаем следующий трюк: будем предсказывать не целевую переменную, а ее *логарифм*. Обозначим $\\hat{y}_i = \\log{(y_i + 1)}$ — модифицированный таргет, а $\\hat{a}(x_i)$ — предсказание модели, которая обучалась на $\\hat{y}_i$, то есть логарифм таргета. Чтобы предсказать исходное значение, мы можем просто взять экспоненту от нашего предсказания: $a(x_i) = \\exp(\\hat{a}(x_i)) - 1$.\n",
        "\n",
        "**Вопрос**: Покажите, что оптимизация RMSLE для модели $a$ эквивалентна оптимизации MSE для модели $\\hat{a}$.\n",
        "\n",
        "**Доказательство**: ╰( ͡° ͜ʖ ͡° )つ──☆*:・ﾟ\n",
        "\n",
        "Итак, мы смогли свести задачу оптимизации RMSLE к задаче оптимизации MSE, которую мы умеем решать! Кроме того, у логарифмирования таргета есть еще одно полезное свойство. Чтобы его увидеть, добавьте к нашей выборке колонку `log_trip_duration` (воспользуйтесь `np.log1p`) и нарисуйте гистограмму модифицированного таргета по обучающей выборке. Удалите колонку со старым таргетом."
      ]
    },
    {
      "cell_type": "code",
      "execution_count": 8,
      "metadata": {
        "id": "zuHDDRflEoGG"
      },
      "outputs": [],
      "source": [
        "df = df.with_columns(pl.col('trip_duration').log1p().alias('log_trip_duration'))\n",
        "df_test = df_test.with_columns(pl.col('trip_duration').log1p().alias('log_trip_duration'))"
      ]
    },
    {
      "cell_type": "markdown",
      "metadata": {
        "id": "LemSA66dEoGG"
      },
      "source": [
        "Чтобы иметь некоторую точку отсчета, давайте посчитаем значение метрики при наилучшем константном предсказании:"
      ]
    },
    {
      "cell_type": "code",
      "execution_count": null,
      "metadata": {
        "id": "yUp_dA0_EoGG"
      },
      "outputs": [],
      "source": [
        "def rmsle(log1p_y_true, log1p_y_pred):\n",
        "    return (log1p_y_true - log1p_y_pred).pow(2).mean()**.5\n",
        "\n",
        "rmsle_best_const = rmsle(\n",
        "    df.select('log_trip_duration').collect()['log_trip_duration'],\n",
        "    df.select(pl.col('log_trip_duration').mean()).collect().item()\n",
        "    )\n",
        "print(rmsle_best_const)\n",
        "assert np.allclose(rmsle_best_const, 0.79575, 1e-4)"
      ]
    },
    {
      "cell_type": "markdown",
      "metadata": {
        "id": "pAFeUHJMEoGG"
      },
      "source": [
        "## Часть 1. Изучаем `pickup_datetime` (2 балла)\n",
        "\n",
        "**Задание 2 (0.25 баллов)**. Для начала давайте посмотрим, сколько всего было поездок в каждый из дней. Постройте график зависимости количества поездок от дня в году:"
      ]
    },
    {
      "cell_type": "code",
      "execution_count": null,
      "metadata": {
        "id": "JjPu9549EoGG"
      },
      "outputs": [],
      "source": [
        "fig = px.bar(\n",
        "    df.group_by(pl.col('pickup_datetime').dt.date().alias('date')).agg(pl.len().alias('trip_count')).collect(),\n",
        "    x='date',\n",
        "    y='trip_count',\n",
        "    title='Trip count by date',\n",
        ")\n",
        "# fig.update_layout(yaxis_title=\"trip count\", yaxis_title_font_size=12)\n",
        "fig.update_layout(yaxis=dict(title=dict(text='trip count', font_size=12)))\n",
        "fig.update_layout(**layout_dict)"
      ]
    },
    {
      "cell_type": "code",
      "execution_count": null,
      "metadata": {},
      "outputs": [],
      "source": [
        "df.group_by(pl.col('pickup_datetime').dt.date().alias('date')).agg(pl.len().alias('trip_count')).sort('trip_count').head(10).collect()"
      ]
    },
    {
      "cell_type": "markdown",
      "metadata": {
        "id": "I-LkA5nHEoGH"
      },
      "source": [
        "**Вопрос**: Вы, вероятно, заметили, что на графике есть 2 периода с аномально маленькими количествами поездок. Вычислите, в какие даты происходили эти скачки вниз и найдите информацию о том, что происходило в эти дни в Нью-Йорке.\n",
        "\n",
        "Нарисуйте графики зависимости количества поездок от дня недели и от часов в сутках:"
      ]
    },
    {
      "cell_type": "code",
      "execution_count": null,
      "metadata": {
        "id": "I9nKEKjTEoGH"
      },
      "outputs": [],
      "source": [
        "fig = px.bar(\n",
        "    df.group_by(pl.col('pickup_datetime').dt.weekday().alias('weekday').cast(pl.String)).agg(pl.len().alias('trip_count')).sort('weekday').collect(),\n",
        "    x='weekday',\n",
        "    y='trip_count',\n",
        "    title='Trip count by weekday',\n",
        ")\n",
        "# fig.update_layout(yaxis_title=\"trip count\", yaxis_title_font_size=12)\n",
        "fig.update_layout(yaxis=dict(title=dict(text='trip count', font_size=12)))\n",
        "fig.update_layout(**layout_dict)\n",
        "fig.show()\n",
        "\n",
        "\n",
        "fig = px.bar(\n",
        "    df.group_by(\n",
        "        pl.col('pickup_datetime').dt.hour().alias('hour')\n",
        "    ).agg(\n",
        "        pl.len().alias('trip_count')\n",
        "    ).sort('hour').with_columns(pl.col('hour').cast(pl.String)).collect(),\n",
        "    x='hour',\n",
        "    y='trip_count',\n",
        "    title='Trip count by hour',\n",
        ")\n",
        "fig.update_layout(yaxis=dict(title=dict(text='trip count', font_size=12)))\n",
        "fig.update_layout(**layout_dict)\n",
        "fig.show()\n"
      ]
    },
    {
      "cell_type": "markdown",
      "metadata": {
        "id": "nvZ2ERAlEoGH"
      },
      "source": [
        "**Задание 3 (0.5 баллов)**. Нарисуйте на одном графике зависимости количества поездок от часа в сутках для разных месяцев (разные кривые, соответствующие разным месяцам, окрашивайте в разные цвета, поищите, как это делается). Аналогично нарисуйте зависимости количества поездок от часа в сутках для разных дней недели."
      ]
    },
    {
      "cell_type": "code",
      "execution_count": null,
      "metadata": {
        "id": "oyYM_5emEoGH"
      },
      "outputs": [],
      "source": [
        "fig = px.line(\n",
        "    df.group_by(\n",
        "        pl.col('pickup_datetime').dt.hour().alias('hour'),\n",
        "        pl.col('pickup_datetime').dt.month().alias('month')\n",
        "    ).agg(\n",
        "        pl.len().alias('trip_count')\n",
        "    ).sort(['month', 'hour']).with_columns(\n",
        "        pl.col('hour').cast(pl.String),\n",
        "        pl.col('month').cast(pl.String).replace({'1':'Jan', '2':'Feb', '3':'Mar', '4':'Apr', '5':'May', '6':'Jun'})\n",
        "    ).collect(),\n",
        "    x='hour',\n",
        "    y='trip_count',\n",
        "    color='month',\n",
        "    title='Trip count by hour and month',\n",
        ")\n",
        "\n",
        "fig.update_layout(**layout_dict)\n",
        "fig.show()\n",
        "\n",
        "fig = px.line(\n",
        "    df.group_by(\n",
        "        pl.col('pickup_datetime').dt.hour().alias('hour'),\n",
        "        pl.col('pickup_datetime').dt.weekday().alias('weekday')\n",
        "    ).agg(\n",
        "        pl.len().alias('trip_count')\n",
        "    ).sort(['weekday', 'hour']).with_columns(\n",
        "        pl.col('hour').cast(pl.String),\n",
        "        pl.col('weekday').cast(pl.String).replace({'1':'Mon', '2':'Tue', '3':'Wed', '4':'Thu', '5':'Fri', '6':'Sat', '7':'Sun'})\n",
        "    ).collect(),\n",
        "    x='hour',\n",
        "    y='trip_count',\n",
        "    color='weekday',\n",
        "    title='Trip count by hour and weekday',\n",
        ")\n",
        "\n",
        "fig.update_layout(**layout_dict)\n",
        "fig.show()"
      ]
    },
    {
      "cell_type": "markdown",
      "metadata": {
        "id": "3gXhl4OrEoGH"
      },
      "source": [
        "**Вопрос**: Какие выводы можно сделать, основываясь на графиках выше? Выделяются ли какие-нибудь дни недели? Месяца? Время суток? С чем это связано?\n",
        "\n",
        "**Задание 4 (0.5 баллов)**. Разбейте выборку на обучающую и тестовую в отношении 7:3 (используйте `train_test_split` из `sklearn`). По обучающей выборке нарисуйте график зависимости среднего логарифма времени поездки от дня недели. Затем сделайте то же самое, но для часа в сутках и дня в году."
      ]
    },
    {
      "cell_type": "code",
      "execution_count": 10,
      "metadata": {
        "id": "4XJ3ZOJzEoGH"
      },
      "outputs": [],
      "source": [
        "from sklearn.compose import ColumnTransformer # make_column_transformer\n",
        "from sklearn.linear_model import Ridge\n",
        "from sklearn.metrics import mean_squared_error\n",
        "from sklearn.model_selection import train_test_split\n",
        "from sklearn.pipeline import Pipeline\n",
        "from sklearn.preprocessing import OneHotEncoder, StandardScaler"
      ]
    },
    {
      "cell_type": "code",
      "execution_count": 11,
      "metadata": {},
      "outputs": [],
      "source": [
        "xtrain, xval = train_test_split(df.collect(), test_size=0.3, random_state=120)\n",
        "xtrain = xtrain.lazy()\n",
        "xval = xval.lazy()"
      ]
    },
    {
      "cell_type": "code",
      "execution_count": null,
      "metadata": {},
      "outputs": [],
      "source": [
        "fig = px.bar(\n",
        "    xtrain.group_by(\n",
        "        pl.col('pickup_datetime').dt.weekday().alias('weekday')\n",
        "    ).agg(\n",
        "        pl.col('log_trip_duration').mean()\n",
        "    ).sort('weekday').with_columns(\n",
        "        pl.col('weekday').cast(pl.String).replace({'1':'Mon', '2':'Tue', '3':'Wed', '4':'Thu', '5':'Fri', '6':'Sat', '7':'Sun'})\n",
        "    ).collect(),\n",
        "    x='weekday',\n",
        "    y='log_trip_duration',\n",
        "    title='Avg Log trip duration by weekday',\n",
        ")\n",
        "fig.update_layout(yaxis=dict(title=dict(text='log trip duration', font_size=12)))\n",
        "fig.update_layout(**layout_dict)\n",
        "fig.show()\n",
        "\n",
        "fig = px.bar(\n",
        "    xtrain.group_by(\n",
        "        pl.col('pickup_datetime').dt.hour().alias('hour')\n",
        "    ).agg(\n",
        "        pl.col('log_trip_duration').mean()\n",
        "    ).sort('hour').with_columns(\n",
        "        pl.col('hour').cast(pl.String),\n",
        "    ).collect(),\n",
        "    x='hour',\n",
        "    y='log_trip_duration',\n",
        "    title='Avg Log trip duration by hour',\n",
        ")\n",
        "fig.update_layout(yaxis=dict(title=dict(text='log trip duration', font_size=12)))\n",
        "fig.update_layout(**layout_dict)\n",
        "fig.show()\n",
        "\n",
        "fig = px.bar(\n",
        "    xtrain.group_by(\n",
        "        pl.col('pickup_datetime').dt.date().alias('date')\n",
        "    ).agg(\n",
        "        pl.col('log_trip_duration').mean()\n",
        "    ).sort('date').collect(),\n",
        "    x='date',\n",
        "    y='log_trip_duration',\n",
        "    title='Avg Log trip duration by date',\n",
        ")\n",
        "fig.update_layout(yaxis=dict(title=dict(text='log trip duration', font_size=12)))\n",
        "fig.update_layout(**layout_dict)\n",
        "fig.show()"
      ]
    },
    {
      "cell_type": "markdown",
      "metadata": {
        "id": "lgSOuc3GEoGH"
      },
      "source": [
        "**Вопрос**: Похожи ли графики зависимости таргета от дня недели и от часа в сутках на аналогичные графики для количества поездок? Почему? Что происходит со средним таргетом в те два аномальных периода, что мы видели выше? Почему так происходит? Наблюдаете ли вы какой-нибудь тренд на графике зависимости `log_trip_duration` от номера дня в году?"
      ]
    },
    {
      "cell_type": "markdown",
      "metadata": {
        "id": "TjuyUesbEoGH"
      },
      "source": [
        "Добавьте следующие признаки на основе `pickup_datetime`:\n",
        "1. День недели\n",
        "2. Месяц\n",
        "3. Час\n",
        "4. Является ли период аномальным (два бинарных признака, соответствующие двум аномальным периодам)\n",
        "5. Номер дня в году"
      ]
    },
    {
      "cell_type": "code",
      "execution_count": 34,
      "metadata": {
        "id": "WISPT8dDEoGH"
      },
      "outputs": [],
      "source": [
        "xtrain = xtrain.with_columns(pl.col('pickup_datetime').dt.weekday().alias('weekday'))\n",
        "xtrain = xtrain.with_columns(pl.col('pickup_datetime').dt.month().cast(pl.String).alias('month'))\n",
        "xtrain = xtrain.with_columns(pl.col('pickup_datetime').dt.hour().alias('hour'))\n",
        "xtrain = xtrain.with_columns(pl.col('pickup_datetime').dt.date().cast(pl.Int64).alias('date'))\n",
        "xtrain = xtrain.with_columns(pl.col('pickup_datetime').dt.date().is_between(datetime.date(2016, 1, 23), datetime.date(2016, 1, 29)).alias('is_blizzard'))\n",
        "xtrain = xtrain.with_columns((pl.col('pickup_datetime').dt.date() == datetime.date(2016, 5, 30)).alias('is_memorial'))\n",
        "\n",
        "xval = xval.with_columns(pl.col('pickup_datetime').dt.weekday().alias('weekday'))\n",
        "xval = xval.with_columns(pl.col('pickup_datetime').dt.month().cast(pl.String).alias('month'))\n",
        "xval = xval.with_columns(pl.col('pickup_datetime').dt.hour().alias('hour'))\n",
        "xval = xval.with_columns(pl.col('pickup_datetime').dt.date().cast(pl.Int64).alias('date'))\n",
        "xval = xval.with_columns(pl.col('pickup_datetime').dt.date().is_between(datetime.date(2016, 1, 23), datetime.date(2016, 1, 29)).alias('is_blizzard'))\n",
        "xval = xval.with_columns((pl.col('pickup_datetime').dt.date() == datetime.date(2016, 5, 30)).alias('is_memorial'))"
      ]
    },
    {
      "cell_type": "markdown",
      "metadata": {
        "id": "YZqSNGlnEoGI"
      },
      "source": [
        "Итак, мы уже создали некоторое количество признаков.\n",
        "\n",
        "**Вопрос**: Какие из признаков _стоит рассматривать в этой задаче_   как категориальные, а какие - как численные? Почему?"
      ]
    },
    {
      "cell_type": "markdown",
      "metadata": {
        "id": "J-3Fv4KpEoGI"
      },
      "source": [
        "**Задание 5 (0.75 баллов)**. Обучите `Ridge`-регрессию с параметрами по умолчанию, закодировав все категориальные признаки с помощью `OneHotEncoder`. Численные признаки отмасштабируйте с помощью `StandardScaler`. Используйте только признаки, которые мы выделили в этой части задания."
      ]
    },
    {
      "cell_type": "code",
      "execution_count": 14,
      "metadata": {},
      "outputs": [],
      "source": [
        "categorical = ['hour', 'weekday', 'month', 'is_memorial', 'is_blizzard']\n",
        "numeric_features = ['passenger_count', 'pickup_latitude', 'pickup_longitude', 'dropoff_longitude', 'dropoff_latitude']\n",
        "\n",
        "column_transformer = ColumnTransformer([\n",
        "    ('ohe', OneHotEncoder(handle_unknown=\"ignore\", drop='if_binary'), categorical),\n",
        "    ('scaling', StandardScaler(), numeric_features)\n",
        "])\n",
        "\n",
        "pipeline = Pipeline(steps=[\n",
        "    ('ohe_and_scaling', column_transformer),\n",
        "    ('regression', Ridge())\n",
        "])\n",
        "\n",
        "model0 = pipeline.fit(xtrain.collect(), xtrain.select('log_trip_duration').collect()['log_trip_duration']) # restricting before collecting would work much faster"
      ]
    },
    {
      "cell_type": "code",
      "execution_count": null,
      "metadata": {},
      "outputs": [],
      "source": [
        "ytrain_pred = model0.predict(xtrain.collect())\n",
        "yval_pred = model0.predict(xval.collect())\n",
        "\n",
        "print(f'''\n",
        "    Constant prediction RMSLE {rmsle_best_const:.3f}\n",
        "    Train RMSLE: {mean_squared_error(xtrain.select('log_trip_duration').collect()['log_trip_duration'], ytrain_pred)**.5:.3f}\n",
        "    Validation RMSLE: {mean_squared_error(xval.select('log_trip_duration').collect()['log_trip_duration'], yval_pred)**.5:.3f}\n",
        "''')"
      ]
    },
    {
      "cell_type": "code",
      "execution_count": null,
      "metadata": {},
      "outputs": [],
      "source": [
        "pl.DataFrame({\n",
        "    'variable': model0['ohe_and_scaling']['scaling'].feature_names_in_,\n",
        "    'coefficient': model0['regression'].coef_[-len(numeric_features):]\n",
        "})"
      ]
    },
    {
      "cell_type": "markdown",
      "metadata": {
        "id": "IqXqxoB8EoGI"
      },
      "source": [
        "## Часть 2. Изучаем координаты (3 балла)\n",
        "Мы уже очень хорошо изучили данные о времени начала поездки, давайте теперь посмотрим на информацию о координатах начала и конца поездки. Мы подготовили для вас функцию, которая на карте рисует точки начала или конца поездки. Примеры ее вызова вы найдете ниже. Обратите внимание, что в эту функцию мы передаем лишь небольшой кусочек данных, посколько иначе функция будет работать очень долго"
      ]
    },
    {
      "cell_type": "code",
      "execution_count": null,
      "metadata": {
        "id": "QwsYkIm8EoGI"
      },
      "outputs": [],
      "source": [
        "from typing import Iterable\n",
        "\n",
        "def show_circles_on_map(\n",
        "    latitude_values: Iterable[float],\n",
        "    longitude_values: Iterable[float],\n",
        "    color: str = \"blue\",\n",
        ") -> folium.Map:\n",
        "    \"\"\"\n",
        "    The function draws map with circles on it.\n",
        "    The center of the map is the mean of coordinates passed in data.\n",
        "    Works best on samples of size < 10k, too costly otherwise\n",
        "\n",
        "    latitude_values: sample latitude values of a dataframe\n",
        "    longitude_column: sample longitude values of a dataframe\n",
        "    color: the color of circles to be drawn\n",
        "    \"\"\"\n",
        "\n",
        "    location = (np.mean(latitude_values), np.mean(longitude_values))\n",
        "    m = folium.Map(location=location)\n",
        "\n",
        "    for lat, lon in zip(latitude_values, longitude_values):\n",
        "        folium.Circle(\n",
        "            radius=100,\n",
        "            location=(lat, lon),\n",
        "            color=color,\n",
        "            fill_color=color,\n",
        "            fill=True\n",
        "        ).add_to(m)\n",
        "\n",
        "    return m"
      ]
    },
    {
      "cell_type": "markdown",
      "metadata": {
        "id": "AKOS4yXmEoGI"
      },
      "source": [
        "Напишите функция, которая вернет значения колонок `pickup_latitude`, `pickup_longitude` на каком-нибудь разумном кусочке датафрейма, например, `df.sample(1000)` и покажите на карте, используя `show_circles_on_map`"
      ]
    },
    {
      "cell_type": "code",
      "execution_count": null,
      "metadata": {
        "ExecuteTime": {
          "end_time": "2020-09-26T17:05:16.699973Z",
          "start_time": "2020-09-26T17:05:16.026291Z"
        },
        "id": "J2StlNlOEoGI"
      },
      "outputs": [],
      "source": [
        "#╰( ͡° ͜ʖ ͡° )つ──☆*:・ﾟ\n",
        "# your_lat_values = ...\n",
        "# your_lon_values = ...\n",
        "\n",
        "# show_circles_on_map(your_lat_values, your_lon_values, color=\"midnightblue\")"
      ]
    },
    {
      "cell_type": "markdown",
      "metadata": {
        "id": "K717UVClEoGI"
      },
      "source": [
        "**Вопрос**: Какие пункты (или скопления точек, в количестве 2-3), по вашему мнению, выделяются на карте от основной массы и могут быть полезны для нашей задачи? Почему вы их выбрали? В чём особенность этих скоплений точек для нашей задачи?"
      ]
    },
    {
      "cell_type": "markdown",
      "metadata": {
        "id": "49LTh74REoGI"
      },
      "source": [
        "**Задание 6 (0.75 балл)**. Как мы все прекрасно помним, $t = s / v_{\\text{ср}}$, поэтому очевидно, что самым сильным признаком будет расстояние, которое необходимо проехать. Мы не можем посчитать точное расстояние, которое необходимо преодолеть такси, но мы можем его оценить, посчитав кратчайшее расстояние между точками начала и конца поездки. Чтобы корректно посчитать расстояние между двумя точками на Земле, можно использовать функцию `haversine`. Также можно воспользоваться кодом с первого семинара. Посчитайте кратчайшее расстояние для объектов и запишите его в колонку `haversine`:"
      ]
    },
    {
      "cell_type": "code",
      "execution_count": null,
      "metadata": {},
      "outputs": [],
      "source": [
        "def haversine(lat1, lat2, lon1, lon2):\n",
        "    R = 3958.8\n",
        "    _lat1, _lat2, _lon1, _lon2 = (x * np.pi / 180 for x in (lat1, lat2, lon1, lon2))\n",
        "    return 2*R*np.arcsin(np.sqrt(\n",
        "        np.square(np.sin(.5*(_lon1 - _lon2))) + np.cos(_lon1)*np.cos(_lon2)*np.square(np.sin(.5*(_lat1 - _lat2)))\n",
        "    ))"
      ]
    },
    {
      "cell_type": "code",
      "execution_count": 18,
      "metadata": {
        "id": "TR2paL0bEoGJ"
      },
      "outputs": [],
      "source": [
        "R = 3958.8\n",
        "xtrain = xtrain.with_columns(\n",
        "    pl.col('pickup_latitude', 'pickup_longitude', 'dropoff_latitude', 'dropoff_longitude').mul(np.pi / 180).name.suffix('_')\n",
        ").with_columns(\n",
        "    pl.col('pickup_longitude_').sub('dropoff_longitude_').mul(.5).sin().pow(2).add(\n",
        "        pl.col('pickup_latitude_').sub('dropoff_latitude_').mul(.5).sin().pow(2).mul(pl.col('pickup_longitude_').cos()).mul(pl.col('dropoff_longitude_').cos()).alias('lat_term')\n",
        "    ).sqrt().arcsin().mul(2*R).alias('haversine')\n",
        ").select(pl.exclude('pickup_latitude_', 'pickup_longitude_', 'dropoff_latitude_', 'dropoff_longitude_'))\n",
        "\n",
        "xval = xval.with_columns(\n",
        "    pl.col('pickup_latitude', 'pickup_longitude', 'dropoff_latitude', 'dropoff_longitude').mul(np.pi / 180).name.suffix('_')\n",
        ").with_columns(\n",
        "    pl.col('pickup_longitude_').sub('dropoff_longitude_').mul(.5).sin().pow(2).add(\n",
        "        pl.col('pickup_latitude_').sub('dropoff_latitude_').mul(.5).sin().pow(2).mul(pl.col('pickup_longitude_').cos()).mul(pl.col('dropoff_longitude_').cos()).alias('lat_term')\n",
        "    ).sqrt().arcsin().mul(2*R).alias('haversine')\n",
        ").select(pl.exclude('pickup_latitude_', 'pickup_longitude_', 'dropoff_latitude_', 'dropoff_longitude_'))"
      ]
    },
    {
      "cell_type": "markdown",
      "metadata": {
        "id": "5sTMm3CNEoGJ"
      },
      "source": [
        "Так как мы предсказываем логарифм времени поездки и хотим, чтобы наши признаки были линейно зависимы с этой целевой переменной, нам нужно логарифмировать расстояние: $\\log t = \\log s - \\log{v_{\\text{ср}}}$. Запишите логарифм `haversine` в отдельную колонку `log_haversine`:"
      ]
    },
    {
      "cell_type": "code",
      "execution_count": 19,
      "metadata": {},
      "outputs": [],
      "source": [
        "xtrain = xtrain.with_columns(pl.col('haversine').add(1e-3).log().alias('log_haversine'))\n",
        "xval = xval.with_columns(pl.col('haversine').add(1e-3).log().alias('log_haversine'))"
      ]
    },
    {
      "cell_type": "markdown",
      "metadata": {
        "id": "3wk20swoEoGJ"
      },
      "source": [
        "Посчитайте корреляцию и убедитесь, что логарифм расстояния лучше отражает таргет, чем просто расстояние:"
      ]
    },
    {
      "cell_type": "code",
      "execution_count": null,
      "metadata": {},
      "outputs": [],
      "source": [
        "print(f'Correlation before log {xtrain.select(pl.corr('haversine', 'log_trip_duration')).collect().item():.3f}')\n",
        "print(f'Correlation after log {xtrain.select(pl.corr('log_haversine', 'log_trip_duration')).collect().item():.3f}')"
      ]
    },
    {
      "cell_type": "markdown",
      "metadata": {
        "id": "R17AucnyEoGJ"
      },
      "source": [
        "**Задание 7 (0.75 балла)**. Давайте изучим среднюю скорость движения такси. Посчитайте среднюю скорость для каждого объекта обучающей выборки, разделив `haversine` на `trip_duration`, и нарисуйте гистограмму ее распределения"
      ]
    },
    {
      "cell_type": "code",
      "execution_count": null,
      "metadata": {},
      "outputs": [],
      "source": [
        "fig = px.histogram(\n",
        "    xtrain.with_columns(pl.col('haversine').truediv('trip_duration').mul(3600).alias('speed')).collect(),\n",
        "    x='speed',\n",
        "    title='speed distribution',\n",
        "    nbins=100,\n",
        ")\n",
        "fig.update_layout(**layout_dict)"
      ]
    },
    {
      "cell_type": "markdown",
      "metadata": {
        "id": "CB3TSvD6EoGJ"
      },
      "source": [
        "Как можно видеть по гистограмме, для некоторых объектов у нас получились очень больше значения скоростей. Нарисуйте гистограмму по объектам, для которых значение скорости получилось разумным (например, можно не включать рассмотрение объекты, где скорость больше некоторой квантили):"
      ]
    },
    {
      "cell_type": "code",
      "execution_count": 23,
      "metadata": {
        "id": "iu1pMm_MEoGJ"
      },
      "outputs": [],
      "source": [
        "fig = px.histogram(\n",
        "    xtrain.with_columns(\n",
        "        pl.col('haversine').truediv('trip_duration').mul(3600).alias('speed')\n",
        "    ).filter(\n",
        "        pl.col('speed') <= pl.col('speed').quantile(.975)\n",
        "    ).collect(),\n",
        "    x='speed',\n",
        "    title='speed distribution',\n",
        "    nbins=100,\n",
        ")\n",
        "fig.update_layout(**layout_dict)"
      ]
    },
    {
      "cell_type": "markdown",
      "metadata": {
        "id": "aAkEw_bdEoGJ"
      },
      "source": [
        "Для каждой пары (день недели, час суток) посчитайте медиану скоростей. Нарисуйте Heatmap-график, где по осям будут дни недели и часы, а в качестве значения функции - медиана скорости"
      ]
    },
    {
      "cell_type": "code",
      "execution_count": null,
      "metadata": {
        "id": "tY-85Qa0EoGJ"
      },
      "outputs": [],
      "source": [
        "fig = px.imshow(\n",
        "    xtrain.with_columns(\n",
        "        pl.col('haversine').truediv('trip_duration').mul(3600).alias('speed')\n",
        "    ).sort('hour', 'weekday').with_columns(\n",
        "        pl.col('weekday').cast(pl.String).replace({'1':'Mon', '2':'Tue', '3':'Wed', '4':'Thu', '5':'Fri', '6':'Sat', '7':'Sun'})\n",
        "    ).collect().pivot('weekday', index='hour', values='speed', aggregate_function='median').select(pl.exclude('hour')),\n",
        "    y = list(range(24)),\n",
        "    labels=dict(x='Day of week', y='hour'),\n",
        "    title='Speed by day of week and hour'\n",
        ")\n",
        "# fig.update_xaxes(side=\"top\")\n",
        "fig.update_layout(layout_dict)"
      ]
    },
    {
      "cell_type": "markdown",
      "metadata": {
        "id": "p-SHoA9_EoGJ"
      },
      "source": [
        "Не забудьте удалить колонку со значением скорости из данных!\n",
        "\n",
        "**Вопрос**: Почему значение скорости нельзя использовать во время обучения?"
      ]
    },
    {
      "cell_type": "code",
      "execution_count": null,
      "metadata": {
        "id": "IpG1f3mHEoGJ"
      },
      "outputs": [],
      "source": [
        "# it contains information on target variable"
      ]
    },
    {
      "cell_type": "markdown",
      "metadata": {
        "id": "HsS9Nqw9EoGK"
      },
      "source": [
        "**Вопрос**: Посмотрите внимательно на график и скажите, в какие моменты времени скорость минимальна; максимальна.\n",
        "\n",
        "Создайте признаки \"поездка совершается в период пробок\" и \"поездка совершается в период свободных дорог\" (естественно, они не должен зависеть от скорости!):"
      ]
    },
    {
      "cell_type": "code",
      "execution_count": null,
      "metadata": {
        "id": "D2zsRVBhEoGK"
      },
      "outputs": [],
      "source": [
        "xtrain = xtrain.with_columns(\n",
        "    (pl.col('weekday').is_between(1, 5) & pl.col('hour').is_between(8, 18)).alias('is_rush'),\n",
        "    (\n",
        "        (pl.col('weekday').is_between(1, 5) & pl.col('hour').is_between(0, 5)).or_(pl.col('weekday').is_between(6, 7) & pl.col('hour').is_between(4, 7))\n",
        "    ).alias('is_free'),\n",
        "    )\n",
        "\n",
        "xval = xval.with_columns(\n",
        "    (pl.col('weekday').is_between(1, 5) & pl.col('hour').is_between(8, 18)).alias('is_rush'),\n",
        "    (\n",
        "        (pl.col('weekday').is_between(1, 5) & pl.col('hour').is_between(0, 5)).or_(pl.col('weekday').is_between(6, 7) & pl.col('hour').is_between(4, 7))\n",
        "    ).alias('is_free'),\n",
        "    )"
      ]
    },
    {
      "cell_type": "markdown",
      "metadata": {
        "id": "0djsisvMEoGK"
      },
      "source": [
        "**Задание 8 (0.25 балла)**. Для каждого из замеченных вами выше 2-3 пунктов добавьте в выборку по два признака:\n",
        "- началась ли поездка в этом пункте\n",
        "- закончилась ли поездка в этом пункте\n",
        "\n",
        "Как вы думаете, почему эти признаки могут быть полезны?"
      ]
    },
    {
      "cell_type": "code",
      "execution_count": null,
      "metadata": {
        "id": "L1In5s8WEoGK"
      },
      "outputs": [],
      "source": [
        "xtrain = xtrain.with_columns(\n",
        "    pl.col('pickup_latitude').is_between(40.7685745910316, 40.78092423293102).and_(pl.col('pickup_longitude').is_between(-73.88553158521124, -73.85549084411662)).alias('lga_pickup'),\n",
        "    pl.col('dropoff_latitude').is_between(40.7685745910316, 40.78092423293102).and_(pl.col('dropoff_longitude').is_between(-73.88553158521124, -73.85549084411662)).alias('lga_dropoff'),\n",
        "    pl.col('pickup_latitude').is_between(40.64014671430768, 40.649348476637805).and_(pl.col('pickup_longitude').is_between(-73.796050739231967, -73.77550641673797)).alias('jfk_pickup'),\n",
        "    pl.col('dropoff_latitude').is_between(40.64014671430768, 40.649348476637805).and_(pl.col('dropoff_longitude').is_between(-73.796050739231967, -73.77550641673797)).alias('jfk_dropoff'),\n",
        ")\n",
        "\n",
        "xval = xval.with_columns(\n",
        "    pl.col('pickup_latitude').is_between(40.7685745910316, 40.78092423293102).and_(pl.col('pickup_longitude').is_between(-73.88553158521124, -73.85549084411662)).alias('lga_pickup'),\n",
        "    pl.col('dropoff_latitude').is_between(40.7685745910316, 40.78092423293102).and_(pl.col('dropoff_longitude').is_between(-73.88553158521124, -73.85549084411662)).alias('lga_dropoff'),\n",
        "    pl.col('pickup_latitude').is_between(40.64014671430768, 40.649348476637805).and_(pl.col('pickup_longitude').is_between(-73.796050739231967, -73.77550641673797)).alias('jfk_pickup'),\n",
        "    pl.col('dropoff_latitude').is_between(40.64014671430768, 40.649348476637805).and_(pl.col('dropoff_longitude').is_between(-73.796050739231967, -73.77550641673797)).alias('jfk_dropoff'),\n",
        ")"
      ]
    },
    {
      "cell_type": "markdown",
      "metadata": {
        "id": "sMfdXM1WEoGK"
      },
      "source": [
        "Для каждого из созданных признаков нарисуйте \"ящик с усами\" (aka boxplot) распределения логарифма времени поездки"
      ]
    },
    {
      "cell_type": "code",
      "execution_count": null,
      "metadata": {
        "id": "hCA56gBGEoGK"
      },
      "outputs": [],
      "source": [
        "#╰( ͡° ͜ʖ ͡° )つ──☆*:・ﾟ"
      ]
    },
    {
      "cell_type": "markdown",
      "metadata": {
        "id": "c0F99WCzEoGK"
      },
      "source": [
        "**Вопрос**: судя по графикам, как вы думаете, хорошими ли получились эти признаки?"
      ]
    },
    {
      "cell_type": "markdown",
      "metadata": {
        "id": "s9EYWEqiEoGK"
      },
      "source": [
        "<img src=\"https://www.dropbox.com/s/xson9nukz5hba7c/map.png?raw=1\" align=\"right\" width=\"20%\" style=\"margin-left: 20px; margin-bottom: 20px\">\n",
        "\n",
        "**Задание 9 (1 балл)**. Сейчас мы почти что не используем сами значения координат. На это есть несколько причин: по отдельности рассматривать широту и долготу не имеет особого смысла, стоит рассматривать их вместе. Во-вторых, понятно, что зависимость между нашим таргетом и координатами не линейная. Чтобы как-то использовать координаты, можно прибегнуть к следующему трюку: обрамим область с наибольшим количеством поездок прямоугольником (как на рисунке). Разобьем этот прямоугольник на ячейки. Каждой точке сопоставим номер ее ячейки, а тем точкам, что не попали ни в одну из ячеек, сопоставим значение -1.\n",
        "\n",
        "Напишите трансформер, который сначала разбивает показанную на рисунке область на ячейки, а затем создает два признака: номер ячейки, в которой началась поездка, и номер ячейки, в которой закончилась поездка. Количество строк и столбцов выберите самостоятельно.\n",
        "\n",
        "Обратите внимание, что все вычисления должны быть векторизованными, трансформер не должен модифицировать передаваемую ему выборку inplace, а все необходимые статистики (если они вдруг нужны) нужно считать только по обучающей выборке в методе `fit`:"
      ]
    },
    {
      "cell_type": "code",
      "execution_count": null,
      "metadata": {
        "id": "uS-nwBvcEoGK"
      },
      "outputs": [],
      "source": [
        "from sklearn.base import BaseEstimator, TransformerMixin\n",
        "\n",
        "\n",
        "# TransformerMixin implements fit_transform for you,\n",
        "# applying your fit and transform consistently\n",
        "\n",
        "class MapGridTransformer(BaseEstimator, TransformerMixin):\n",
        "    def __init__(self, ...):\n",
        "        # your code here\n",
        "        pass\n",
        "\n",
        "    def show_map(self):\n",
        "        # you may want to visualize cells\n",
        "        pass\n",
        "\n",
        "    def fit(self, X=None, y=None):\n",
        "        # your code here\n",
        "        return self\n",
        "\n",
        "    def transform(self, X, y=None):\n",
        "        # your code here\n",
        "        return X"
      ]
    },
    {
      "cell_type": "markdown",
      "metadata": {
        "id": "HyaEBoUNEoGK"
      },
      "source": [
        "**Задание 10 (0.25 балла)**. Обучите `Ridge`-регрессию со стандартными параметрами на признаках, которые мы выделили к текущему моменту. Категориальные признаки закодируйте через one-hot-кодирование, числовые признаки отмасштабируйте."
      ]
    },
    {
      "cell_type": "code",
      "execution_count": null,
      "metadata": {
        "id": "U5Yq8pwhEoGK"
      },
      "outputs": [],
      "source": [
        "#╰( ͡° ͜ʖ ͡° )つ──☆*:・ﾟ"
      ]
    },
    {
      "cell_type": "markdown",
      "metadata": {
        "id": "KNVvdsEBEoGK"
      },
      "source": [
        "## Часть 3. Изучаем оставшиеся признаки (1 балл)\n",
        "\n",
        "**Задание 11 (0.75 баллов)**. У нас осталось еще 3 признака, которые мы не исследовали: `vendor_id`, `passenger_count` и `store_and_fwd_flag`.\n",
        "\n",
        "**Вопрос**: Подумайте, почему каждый из этих признаков может быть потенциально полезным.\n",
        "\n",
        "Посчитайте, сколько есть уникальных значений у каждого из этих признаков:"
      ]
    },
    {
      "cell_type": "code",
      "execution_count": null,
      "metadata": {
        "id": "QsRW9fh0EoGK"
      },
      "outputs": [],
      "source": [
        "#╰( ͡° ͜ʖ ͡° )つ──☆*:・ﾟ"
      ]
    },
    {
      "cell_type": "markdown",
      "metadata": {
        "id": "_DF_LaGNEoGL"
      },
      "source": [
        "Постройте \"ящики с усами\" распределений логарифма времени поездки в зависимости от значений каждого из признаков"
      ]
    },
    {
      "cell_type": "code",
      "execution_count": null,
      "metadata": {
        "id": "ZK0oROrVEoGL"
      },
      "outputs": [],
      "source": [
        "#╰( ͡° ͜ʖ ͡° )つ──☆*:・ﾟ"
      ]
    },
    {
      "cell_type": "markdown",
      "metadata": {
        "id": "1bsFyHnlEoGL"
      },
      "source": [
        "Переведите признаки `vendor_id` и `store_and_fwd_flag` в значения $\\{0;1\\}$"
      ]
    },
    {
      "cell_type": "code",
      "execution_count": null,
      "metadata": {
        "id": "uXJWIQ_0EoGL"
      },
      "outputs": [],
      "source": [
        "#╰( ͡° ͜ʖ ͡° )つ──☆*:・ﾟ"
      ]
    },
    {
      "cell_type": "markdown",
      "metadata": {
        "id": "h5rCTsxOEoGL"
      },
      "source": [
        "**Вопрос**: Основываясь на графиках выше, как вы думаете, будут ли эти признаки сильными?"
      ]
    },
    {
      "cell_type": "markdown",
      "metadata": {
        "id": "8KriIMoSEoGL"
      },
      "source": [
        "**Задание 12 (0.25 баллов)**. Проверьте свои предположения, обучив модель в том числе и на этих трех признаках. Обучайте `Ridge`-регрессию со стандартными параметрами. Категориальные признаки закодируйте one-hot-кодированием, а численные отмасштабируйте."
      ]
    },
    {
      "cell_type": "code",
      "execution_count": null,
      "metadata": {
        "id": "7RqP43-bEoGL"
      },
      "outputs": [],
      "source": [
        "#╰( ͡° ͜ʖ ͡° )つ──☆*:・ﾟ"
      ]
    },
    {
      "cell_type": "markdown",
      "metadata": {
        "id": "8af4FGdmEoGL"
      },
      "source": [
        "Если признаки не дали какого-то ощутимого улучшения метрики, их можно выбросить из данных."
      ]
    },
    {
      "cell_type": "markdown",
      "metadata": {
        "id": "TzcV-A9fEoGL"
      },
      "source": [
        "## Часть 4. Улучшаем модель (3 балла)"
      ]
    },
    {
      "cell_type": "markdown",
      "metadata": {
        "id": "Y_WBQCHmEoGL"
      },
      "source": [
        "**Задание 13 (1 балл)**. В наших данных есть нетипичные объекты (выбросы, или outliers): с аномально маленьким времени поездки, с очень большим пройденным расстоянием или очень большими остатками регрессии. В этом задании предлагается исключить такие объекты из обучающей выборки. Для этого нарисуйте гистограммы распределения упомянутых выше величин, выберите объекты, которые можно назвать выбросами, и очистите __обучающую выборку__ от них.\n",
        "\n",
        "Отметим, что хотя эти объекты и выглядят как выбросы, в тестовой выборке тоже скорее всего будут объекты с такими же странными значениями целевой переменной и/или признаков. Поэтому, возможно, чистка обучающей выборки приведёт к ухудшению качества на тесте. Тем не менее, всё равно лучше удалять выбросы из обучения, чтобы модель получалась более разумной и интерпретируемой."
      ]
    },
    {
      "cell_type": "code",
      "execution_count": null,
      "metadata": {
        "id": "ZFwK6VXdEoGL"
      },
      "outputs": [],
      "source": [
        "#╰( ͡° ͜ʖ ͡° )つ──☆*:・ﾟ"
      ]
    },
    {
      "cell_type": "markdown",
      "metadata": {
        "id": "kEQjHVSyEoGL"
      },
      "source": [
        "Сейчас у нас очень много категориальных признаков. В категориальных признаках могут содержаться редкие категории, обычно это плохо: модель сильно переобучается на таких примерах. Для каждого категориального признака объедините действительно редкие категории в одну, если такие имеются (т.е. если категории действительно редкие)."
      ]
    },
    {
      "cell_type": "code",
      "execution_count": null,
      "metadata": {
        "id": "p5rxbesqEoGL"
      },
      "outputs": [],
      "source": [
        "#╰( ͡° ͜ʖ ͡° )つ──☆*:・ﾟ"
      ]
    },
    {
      "cell_type": "markdown",
      "metadata": {
        "id": "Qs2KhEBjEoGL"
      },
      "source": [
        "Обучите модель на очищенных данных и посчитайте качество на тестовой выборке."
      ]
    },
    {
      "cell_type": "markdown",
      "metadata": {
        "id": "EKRzGQXgEoGM"
      },
      "source": [
        "**Задание 14 (1 балл)**. После OneHot-кодирования количество признаков в нашем датасете сильно возрастает. Посчитайте колиество признаков до и после кодирования категориальных признаков."
      ]
    },
    {
      "cell_type": "code",
      "execution_count": null,
      "metadata": {
        "id": "0KRUR0gAEoGM"
      },
      "outputs": [],
      "source": [
        "#╰( ͡° ͜ʖ ͡° )つ──☆*:・ﾟ"
      ]
    },
    {
      "cell_type": "markdown",
      "metadata": {
        "id": "Y6YEjCw8EoGM"
      },
      "source": [
        "Попробуйте обучить не `Ridge`-, а `Lasso`-регрессию. Какой метод лучше?"
      ]
    },
    {
      "cell_type": "code",
      "execution_count": null,
      "metadata": {
        "id": "AzGBeya2EoGM"
      },
      "outputs": [],
      "source": [
        "#╰( ͡° ͜ʖ ͡° )つ──☆*:・ﾟ"
      ]
    },
    {
      "cell_type": "markdown",
      "metadata": {
        "id": "8dayx4UvEoGM"
      },
      "source": [
        "Разбейте _обучающую выборку_ на обучающую и валидационную в отношении 8:2. По валидационной выборке подберите оптимальные значения параметра регуляризации (по логарифмической сетке) для `Ridge` и `Lasso`, на тестовой выборке измерьте качество лучшей полученной модели."
      ]
    },
    {
      "cell_type": "code",
      "execution_count": null,
      "metadata": {
        "id": "vAsX0f2wEoGM"
      },
      "outputs": [],
      "source": [
        "#╰( ͡° ͜ʖ ͡° )つ──☆*:・ﾟ"
      ]
    },
    {
      "cell_type": "markdown",
      "metadata": {
        "id": "4BqGQNSNL6Dc"
      },
      "source": [
        "Сохраните наилучшее значение, как бенчмарк на будущее"
      ]
    },
    {
      "cell_type": "code",
      "execution_count": null,
      "metadata": {
        "id": "E6Hi5Z5PL-ZG"
      },
      "outputs": [],
      "source": [
        "#╰( ͡° ͜ʖ ͡° )つ──☆*:・ﾟ\n",
        "best_rmsle = ..."
      ]
    },
    {
      "cell_type": "markdown",
      "metadata": {
        "id": "5xIItrr3EoGM"
      },
      "source": [
        "Для каждого перебранного `alpha` для Lasso посчитайте количество нулевых весов в модели и нарисуйте график зависимости его от `alpha`. Как сильно придётся потерять в качестве, если мы хотим с помощью Lasso избавиться хотя бы от половины признаков?"
      ]
    },
    {
      "cell_type": "code",
      "execution_count": null,
      "metadata": {
        "id": "9S7lSQghEoGM"
      },
      "outputs": [],
      "source": [
        "#╰( ͡° ͜ʖ ͡° )つ──☆*:・ﾟ"
      ]
    },
    {
      "cell_type": "markdown",
      "metadata": {
        "id": "CAoOSF9nEoGM"
      },
      "source": [
        "<img src=\"https://www.dropbox.com/s/wp4jj0599np17lh/map_direction.png?raw=1\" width=\"20%\" align=\"right\" style=\"margin-left: 20px\">\n",
        "\n",
        "**Задание 15 (1 балл)**. Часто бывает полезным использовать взаимодействия признаков (feature interactions), то есть строить новые признаки на основе уже существующих. Выше мы разбили карту Манхэттена на ячейки и придумали признаки \"из какой ячейки началась поездка\" и \"в какой ячейке закончилась поездка\".\n",
        "\n",
        "Давайте попробуем сделать следующее: посчитаем, сколько раз встречается каждая возможная пара этих признаков в нашем датасете и выберем 100 самых частых пар. Закодируем поездки с этими частыми парами как категориальный признак, остальным объектам припишем -1. Получается, что мы закодировали, откуда и куда должно было ехать такси.\n",
        "\n",
        "**Вопрос**: Почему такой признак потенциально полезный? Почему линейная модель не может самостоятельно \"вытащить\" эту информацию, ведь у нее в распоряжении есть признаки \"из какой ячейки началась поездка\" и \"в какой ячейке закончилась поездка\"?"
      ]
    },
    {
      "cell_type": "code",
      "execution_count": null,
      "metadata": {
        "id": "1Ofm4d7-EoGM"
      },
      "outputs": [],
      "source": [
        "#╰( ͡° ͜ʖ ͡° )つ──☆*:・ﾟ"
      ]
    },
    {
      "cell_type": "markdown",
      "metadata": {
        "id": "5voFKcZNEoGM"
      },
      "source": [
        "Заново обучите модель (`Ridge`, если она дала более высокое качество в предыдущих экспериментах, и `Lasso` иначе) на новых даннных и посчитайте качество на тестовой выборке"
      ]
    },
    {
      "cell_type": "code",
      "execution_count": null,
      "metadata": {
        "id": "mvIx7P4AEoGN"
      },
      "outputs": [],
      "source": [
        "#╰( ͡° ͜ʖ ͡° )つ──☆*:・ﾟ"
      ]
    },
    {
      "cell_type": "markdown",
      "metadata": {
        "id": "epfdTMvfEoGN"
      },
      "source": [
        "**Задание 16 (бонус, 1 балл)**. Где, как не для нашей задачи, считать манхэттенское расстояние?\n",
        "\n",
        "**Вопрос**: Найдите, что такое манхэттенское расстояние и почему оно так называется. Как оно нам может помочь?\n",
        "\n",
        "Введите систему координат на нашей карте так, чтобы оси были параллельны улицам Манхэттена, и добавьте сначала в данные признак \"манхэттенское расстояние между пунктом отправления и пунктом назначения\", а затем и логарифм этого признака. Посчитайте корреляцию между вашим новыми признаком и таргетом; между `log_haversine` и таргетом. В каком случае корреляция больше?\n",
        "\n",
        "Нарисуйте карту, где покажете выбранные оси. Чтобы мы могли проверить вашу работу, просьба сделать скрин этой карты и приложить картинку (если мы откроем ваш ноутбук, виджеты отображаться не будут)."
      ]
    },
    {
      "cell_type": "code",
      "execution_count": null,
      "metadata": {
        "id": "RwjbDN_NEoGN"
      },
      "outputs": [],
      "source": [
        "#╰( ͡° ͜ʖ ͡° )つ──☆*:・ﾟ"
      ]
    },
    {
      "cell_type": "markdown",
      "metadata": {
        "id": "-S0xExMnEoGN"
      },
      "source": [
        "Заново обучите модель на новых даннных и посчитайте качество на тестовой выборке. Стало ли лучше? Объясните полученный результат."
      ]
    },
    {
      "cell_type": "code",
      "execution_count": null,
      "metadata": {
        "id": "D9yydIXwEoGN"
      },
      "outputs": [],
      "source": [
        "#╰( ͡° ͜ʖ ͡° )つ──☆*:・ﾟ"
      ]
    },
    {
      "cell_type": "markdown",
      "metadata": {
        "id": "9MVTtk2PEoGN"
      },
      "source": [
        "**Задание 17 (бонус, 2 балла)**.\n",
        "\n",
        "Разумеется, погружаться в feature engineering можно ещё очень долго. Ваша задача - придумать какие-то новые признаки, которые сделают модель ещё лучше!! За улучшение функционала ошибки на каждые 0.005 на тестовой выборке относительно `best_rmsle` будет даваться 0.5 бонусных балла. Всего за этот пункт можно получить до 2 бонусных баллов.\n",
        "\n",
        "При построении признаков старайтесь не допустить утечки целевой переменной (подробнее про это можно почитать в материалах 1-го семинара) — в противном случае хорошего качества на тестовой выборке достичь не получится.\n",
        "\n",
        "Какие могут быть идеи для вдохновения:\n",
        "\n",
        "1. Трансформер, который строит разбиение карты по шестигранной решётке с помощью библиотеки [H3](https://github.com/uber/h3-py) и вычисляет признаки на основе такого разбиения, по аналогии с квадратной сеткой  \n",
        "> Важно: производительность библиотеки существенно зависит от количества шестиугольников на карте (определяется параметром resolution). Подберите такое разрешение, при котором ваш код будет работать за приемлемое время.    \n",
        "\n",
        "2. Мы пока что никак не использовали историчность и взаимосвязь в данных, хотя информация о том, что было ранее в эти/похожие дни тоже может пригодиться. Попробуйте поискать соседей и/или построить агрегации, например, при помощи groupby, посчитайте какие-либо статистики в пределах какого-то окна (подберите всё это сами, постарайтесь, чтобы это было что-то разумное), и присоедините к основному датафрейму\n",
        "> Важно: учтите, что разных вариантов агрегаций и статистик существует очень много. Не стесняйтесь выкидывать фичи, которые вам не нравятся (помните про свойство Lasso), используйте эффективные способы хранения данных ([wink](https://www.kaggle.com/code/demche/polars-memory-usage-optimization)-[wink](https://docs.scipy.org/doc/scipy/reference/sparse.html))\n",
        "\n",
        "3. В конце концов можно использовать альтернативные способы преобразования данных. Например, использовать другой scaler, другую кодировку категориальных фичей, другие гиперпараметры и пр. Но помните, что на данный момент мы ограничены только `Ridge` и `Lasso`"
      ]
    },
    {
      "cell_type": "code",
      "execution_count": null,
      "metadata": {
        "id": "TXyh2DcnEoGN"
      },
      "outputs": [],
      "source": [
        "#╰( ͡° ͜ʖ ͡° )つ──☆*:・ﾟ"
      ]
    },
    {
      "cell_type": "markdown",
      "metadata": {
        "id": "-IvYBNZ0EoGN"
      },
      "source": [
        "Вставьте картинку, описывающую ваш опыт выполнения этого ДЗ."
      ]
    },
    {
      "cell_type": "code",
      "execution_count": null,
      "metadata": {
        "id": "3ydojwaIEoGN"
      },
      "outputs": [],
      "source": []
    }
  ],
  "metadata": {
    "colab": {
      "provenance": []
    },
    "kernelspec": {
      "display_name": "Python 3",
      "language": "python",
      "name": "python3"
    },
    "language_info": {
      "codemirror_mode": {
        "name": "ipython",
        "version": 3
      },
      "file_extension": ".py",
      "mimetype": "text/x-python",
      "name": "python",
      "nbconvert_exporter": "python",
      "pygments_lexer": "ipython3",
      "version": "3.13.1"
    }
  },
  "nbformat": 4,
  "nbformat_minor": 0
}
